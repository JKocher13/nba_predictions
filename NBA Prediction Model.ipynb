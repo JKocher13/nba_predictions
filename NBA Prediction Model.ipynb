{
 "cells": [
  {
   "cell_type": "code",
   "execution_count": 2,
   "metadata": {},
   "outputs": [],
   "source": [
    "from datetime import date\n",
    "import pandas as pd\n",
    "\n",
    "today = date.today()\n",
    "year = (today.year)\n",
    "month = today.month\n",
    "day = today.day\n",
    "start = today\n",
    "end = today"
   ]
  },
  {
   "cell_type": "code",
   "execution_count": 3,
   "metadata": {},
   "outputs": [
    {
     "ename": "NameError",
     "evalue": "name 'leaguegamefinder' is not defined",
     "output_type": "error",
     "traceback": [
      "\u001b[0;31m---------------------------------------------------------------------------\u001b[0m",
      "\u001b[0;31mNameError\u001b[0m                                 Traceback (most recent call last)",
      "\u001b[0;32m<ipython-input-3-2e5bc27939c4>\u001b[0m in \u001b[0;36m<module>\u001b[0;34m\u001b[0m\n\u001b[1;32m      1\u001b[0m \u001b[0;32mfrom\u001b[0m \u001b[0mnba_api\u001b[0m\u001b[0;34m.\u001b[0m\u001b[0mstats\u001b[0m\u001b[0;34m.\u001b[0m\u001b[0mlibrary\u001b[0m\u001b[0;34m.\u001b[0m\u001b[0mparameters\u001b[0m \u001b[0;32mimport\u001b[0m \u001b[0;34m*\u001b[0m\u001b[0;34m\u001b[0m\u001b[0;34m\u001b[0m\u001b[0m\n\u001b[1;32m      2\u001b[0m \u001b[0;34m\u001b[0m\u001b[0m\n\u001b[0;32m----> 3\u001b[0;31m \u001b[0mraw_game_data\u001b[0m \u001b[0;34m=\u001b[0m \u001b[0mleaguegamefinder\u001b[0m\u001b[0;34m.\u001b[0m\u001b[0mLeagueGameFinder\u001b[0m\u001b[0;34m(\u001b[0m\u001b[0mleague_id_nullable\u001b[0m\u001b[0;34m=\u001b[0m\u001b[0mLeagueIDNullable\u001b[0m\u001b[0;34m(\u001b[0m\u001b[0;34m)\u001b[0m\u001b[0;34m.\u001b[0m\u001b[0mnba\u001b[0m\u001b[0;34m,\u001b[0m \u001b[0mseason_type_nullable\u001b[0m\u001b[0;34m=\u001b[0m\u001b[0mSeasonType\u001b[0m\u001b[0;34m(\u001b[0m\u001b[0;34m)\u001b[0m\u001b[0;34m.\u001b[0m\u001b[0mregular\u001b[0m\u001b[0;34m)\u001b[0m\u001b[0;34m\u001b[0m\u001b[0;34m\u001b[0m\u001b[0m\n\u001b[0m",
      "\u001b[0;31mNameError\u001b[0m: name 'leaguegamefinder' is not defined"
     ]
    }
   ],
   "source": [
    "from nba_api.stats.library.parameters import *\n",
    "\n",
    "raw_game_data = leaguegamefinder.LeagueGameFinder(league_id_nullable=LeagueIDNullable().nba, season_type_nullable=SeasonType().regular)"
   ]
  },
  {
   "cell_type": "code",
   "execution_count": null,
   "metadata": {},
   "outputs": [],
   "source": [
    "games = raw_game_data.get_data_frames()[0]\n",
    "games['GAME_DATE'] =  pd.to_datetime(games['GAME_DATE'])\n",
    "season_games = games[games.SEASON_ID == '22020']\n",
    "season_games\n"
   ]
  },
  {
   "cell_type": "code",
   "execution_count": 4,
   "metadata": {},
   "outputs": [],
   "source": [
    "import json\n",
    "import requests"
   ]
  },
  {
   "cell_type": "code",
   "execution_count": 6,
   "metadata": {},
   "outputs": [
    {
     "name": "stdout",
     "output_type": "stream",
     "text": [
      "\n",
      "{'sport_key': 'basketball_nba', 'sport_nice': 'NBA', 'teams': ['Los Angeles Clippers', 'Sacramento Kings'], 'commence_time': 1612728600, 'home_team': 'Los Angeles Clippers', 'sites': [{'site_key': 'pointsbetus', 'site_nice': 'PointsBet (US)', 'last_update': 1612734949, 'odds': {'spreads': {'odds': [1.91, 1.91], 'points': ['1.5', '-1.5']}}}, {'site_key': 'fanduel', 'site_nice': 'FanDuel', 'last_update': 1612734950, 'odds': {'spreads': {'odds': [1.87, 1.88], 'points': ['1.5', '-1.5']}}}, {'site_key': 'gtbets', 'site_nice': 'GTbets', 'last_update': 1612734948, 'odds': {'spreads': {'odds': [1.85, 1.93], 'points': ['1.5', '-1.5']}}}, {'site_key': 'mybookieag', 'site_nice': 'MyBookie.ag', 'last_update': 1612734949, 'odds': {'spreads': {'odds': [1.91, 1.91], 'points': ['-8.5', '8.5']}}}, {'site_key': 'betmgm', 'site_nice': 'BetMGM', 'last_update': 1612734952, 'odds': {'spreads': {'odds': [1.74, 2.05], 'points': ['1.5', '-1.5']}}}, {'site_key': 'sugarhouse', 'site_nice': 'SugarHouse', 'last_update': 1612734952, 'odds': {'spreads': {'odds': [1.88, 1.88], 'points': ['2.0', '-2.0']}}}, {'site_key': 'betrivers', 'site_nice': 'BetRivers', 'last_update': 1612734951, 'odds': {'spreads': {'odds': [1.88, 1.88], 'points': ['2.0', '-2.0']}}}, {'site_key': 'unibet', 'site_nice': 'Unibet', 'last_update': 1612735002, 'odds': {'spreads': {'odds': [1.88, 1.9], 'points': ['-1.5', '1.5']}}}, {'site_key': 'draftkings', 'site_nice': 'DraftKings', 'last_update': 1612734951, 'odds': {'spreads': {'odds': [1.88, 1.88], 'points': ['2.0', '-2.0']}}}, {'site_key': 'caesars', 'site_nice': 'Caesars', 'last_update': 1612734952, 'odds': {'spreads': {'odds': [1.87, 1.87], 'points': ['2.5', '-2.5']}}}], 'sites_count': 10}\n"
     ]
    }
   ],
   "source": [
    "api_key = 'a95da0979b0f9e44f003e9658954eccf'\n",
    "sport_key = 'basketball_nba'\n",
    "odds_response = requests.get('https://api.the-odds-api.com/v3/odds', params={\n",
    "    'api_key': api_key,\n",
    "    'sport': sport_key,\n",
    "    'region': 'us', # uk | us | eu | au\n",
    "    'mkt': 'spreads' # h2h | spreads | totals\n",
    "})\n",
    "\n",
    "odds_json = json.loads(odds_response.text)\n",
    "if not odds_json['success']:\n",
    "    print(\n",
    "        'There was a problem with the odds request:',\n",
    "        odds_json['msg']\n",
    "    )\n",
    "\n",
    "else:\n",
    "    # odds_json['data'] contains a list of live and \n",
    "    #   upcoming events and odds for different bookmakers.\n",
    "    # Events are ordered by start time (live events are first)\n",
    "    print()\n",
    "    games_number = len(odds_json['data'])-1\n",
    "    #for x in range(0,games_number):\n",
    "        #print((odds_json['data'][x]))\n",
    "    print((odds_json['data'][0]))"
   ]
  },
  {
   "cell_type": "code",
   "execution_count": 20,
   "metadata": {},
   "outputs": [
    {
     "name": "stdout",
     "output_type": "stream",
     "text": [
      "{'spreads': {'odds': [1.87, 1.88], 'points': ['1.5', '-1.5']}}\n",
      "{'spreads': {'odds': [1.88, 1.88], 'points': ['2.0', '-2.0']}}\n"
     ]
    }
   ],
   "source": [
    "\n",
    "home_team = odds_json['data'][0]['home_team']\n",
    "teams = odds_json['data'][0]['teams']\n",
    "for x in teams:\n",
    "    if x.lower() == home_team.lower():\n",
    "        pass\n",
    "    else:\n",
    "        away_team = x\n",
    "away_team\n",
    "for x in odds_json['data'][0][\"sites\"]:\n",
    "    if x[\"site_nice\"] == \"DraftKings\" or x[\"site_nice\"] == \"FanDuel\":\n",
    "        print (x[\"odds\"])\n",
    "    #for y in x:\n",
    "        #print (x)\n"
   ]
  },
  {
   "cell_type": "code",
   "execution_count": null,
   "metadata": {},
   "outputs": [],
   "source": []
  }
 ],
 "metadata": {
  "kernelspec": {
   "display_name": "Python 3",
   "language": "python",
   "name": "python3"
  },
  "language_info": {
   "codemirror_mode": {
    "name": "ipython",
    "version": 3
   },
   "file_extension": ".py",
   "mimetype": "text/x-python",
   "name": "python",
   "nbconvert_exporter": "python",
   "pygments_lexer": "ipython3",
   "version": "3.8.5"
  }
 },
 "nbformat": 4,
 "nbformat_minor": 4
}
